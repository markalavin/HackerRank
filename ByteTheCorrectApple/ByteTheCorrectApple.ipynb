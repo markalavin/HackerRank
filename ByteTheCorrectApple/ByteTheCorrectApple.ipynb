{
 "cells": [
  {
   "cell_type": "code",
   "execution_count": 26,
   "metadata": {},
   "outputs": [
    {
     "name": "stdout",
     "output_type": "stream",
     "text": [
      "computer-company\n",
      "fruit\n",
      "computer-company\n"
     ]
    },
    {
     "name": "stderr",
     "output_type": "stream",
     "text": [
      "count_vectorizer:\n",
      " CountVectorizer(analyzer='word', binary=False, decode_error='strict',\n",
      "                dtype=<class 'numpy.int64'>, encoding='utf-8', input='content',\n",
      "                lowercase=True, max_df=1.0, max_features=None, min_df=1,\n",
      "                ngram_range=(1, 1), preprocessor=None, stop_words=None,\n",
      "                strip_accents=None, token_pattern='(?u)\\\\b\\\\w\\\\w+\\\\b',\n",
      "                tokenizer=None, vocabulary=None)\n"
     ]
    }
   ],
   "source": [
    "# ByteTheCorrectApple:  HackerRank problem to classify \n",
    "# statements containing the word \"apple\" as pertaining \n",
    "# to the \"fruit\" or the \"computer-company\"\n",
    "#\n",
    "# Mark Lavin, 2019\n",
    "####################################################################\n",
    "\n",
    "import sys\n",
    "\n",
    "import numpy as np\n",
    "\n",
    "from sklearn.feature_extraction.text import CountVectorizer, TfidfTransformer\n",
    "\n",
    "# Return [ computer_company_input, fruit_input ] as list of two\n",
    "# strings each reflecting text read from each of two files in the\n",
    "# current directory:\n",
    "def read_training_inputs():\n",
    "    computer_company_inputs = open( \"apple-computers.txt\", \"r\", encoding = \"utf-8\" ).read()\n",
    "    fruit_inputs = open( \"apple-fruit.txt\", \"r\", encoding = \"utf-8\" ).read()\n",
    "    return [ computer_company_inputs, fruit_inputs ]\n",
    "\n",
    "# Read \"N\" test cases from \"file_name\" (STDIN if None) and return\n",
    "# as list of strings:\n",
    "def read_test_inputs( file_name ):\n",
    "    with sys.stdin if file_name is None else open( file_name, \"r\", encoding = \"utf-8\" ) as stream:\n",
    "        N = int( stream.readline() )\n",
    "        test_inputs = stream.read().split( \"\\n\" )[ 0 : N ]\n",
    "        return test_inputs\n",
    "    \n",
    "# Main program, computes and prints the answers\n",
    "def byte_the_correct_apple( file_name ):\n",
    "\n",
    "    company_and_fruit_inputs = read_training_inputs()\n",
    "    count_vectorizer = CountVectorizer().fit( company_and_fruit_inputs )\n",
    "    company_and_fruit_tfidfs =  TfidfTransformer().fit_transform( count_vectorizer.transform( company_and_fruit_inputs ) )\n",
    "\n",
    "    test_inputs = read_test_inputs( file_name )\n",
    "    test_input_tfidfs = TfidfTransformer().fit_transform( count_vectorizer.transform( test_inputs ) )\n",
    "\n",
    "    prod = company_and_fruit_tfidfs.dot( test_input_tfidfs.transpose() )\n",
    "    best = prod.argmax( axis = 0 )\n",
    "    for i in range( best.shape[ 1 ] ):\n",
    "        print( \"computer-company\" if best[ 0, i ] == 0 else \"fruit\" )\n",
    "    \n",
    "###########################################################################\n",
    "\n",
    "file_name = \"C:/Users/IBM_ADMIN/ByteTheCorrectApple.Sample0.input\"\n",
    "byte_the_correct_apple( file_name )    "
   ]
  },
  {
   "cell_type": "code",
   "execution_count": null,
   "metadata": {},
   "outputs": [],
   "source": []
  },
  {
   "cell_type": "code",
   "execution_count": null,
   "metadata": {},
   "outputs": [],
   "source": []
  }
 ],
 "metadata": {
  "kernelspec": {
   "display_name": "Python 3",
   "language": "python",
   "name": "python3"
  },
  "language_info": {
   "codemirror_mode": {
    "name": "ipython",
    "version": 3
   },
   "file_extension": ".py",
   "mimetype": "text/x-python",
   "name": "python",
   "nbconvert_exporter": "python",
   "pygments_lexer": "ipython3",
   "version": "3.7.3"
  }
 },
 "nbformat": 4,
 "nbformat_minor": 2
}
