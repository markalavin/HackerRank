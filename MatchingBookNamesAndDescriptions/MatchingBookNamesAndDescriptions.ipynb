{
 "cells": [
  {
   "cell_type": "code",
   "execution_count": 45,
   "metadata": {},
   "outputs": [
    {
     "name": "stdout",
     "output_type": "stream",
     "text": [
      "3\n",
      "1\n",
      "2\n",
      "4\n",
      "5\n",
      "[[3 1 2 4 5]]\n"
     ]
    },
    {
     "name": "stderr",
     "output_type": "stream",
     "text": [
      "prod:\n",
      " [[0.10811388 0.15268131 0.13828193 0.         0.        ]\n",
      " [0.13458328 0.         0.60004395 0.         0.        ]\n",
      " [0.70305106 0.         0.20257538 0.         0.        ]\n",
      " [0.20432894 0.         0.05254303 0.36264873 0.        ]\n",
      " [0.10019668 0.         0.08086898 0.         0.65024353]]\n"
     ]
    }
   ],
   "source": [
    "# MatchingBookNamesAndDescriptions.ipynb\n",
    "#\n",
    "# Solve HackerRank problem by assigning a book name to each description\n",
    "########################################################################\n",
    "\n",
    "import sys\n",
    "\n",
    "import numpy as np\n",
    "\n",
    "from sklearn.feature_extraction.text import CountVectorizer, TfidfTransformer\n",
    "\n",
    "# Return book_names, descriptions read from \"file_name\" (STDIN if \n",
    "# \"file_name\" is None ):\n",
    "def read_inputs( file_name ):\n",
    "    with sys.stdin if file_name is None else open( file_name, \"r\" ) as stream:\n",
    "        N = int( stream.readline() )\n",
    "        book_names = []\n",
    "        descriptions = []\n",
    "        for i in range( N ):\n",
    "            book_names.append( stream.readline() )\n",
    "        stream.readline() # ***** separator\n",
    "        for i in range( N ):\n",
    "            descriptions.append( stream.readline() )\n",
    "    return book_names, descriptions\n",
    "\n",
    "# Return vectorizer representing dictionary of words (except\n",
    "# stop-words) in \"book_names_and_descriptions\":\n",
    "def create_count_vectorizer( book_names_and_descriptions ):\n",
    "    return CountVectorizer().fit( book_names_and_descriptions )\n",
    "    \n",
    "def extract_tfidf( documents, count_vectorizer ):\n",
    "    return TfidfTransformer().fit_transform( count_vectorizer.transform( documents ) )\n",
    "    \n",
    "# First version:  For each description, independently choose the\n",
    "# book_name with most similar tfidf; this can result in the same\n",
    "# book_name being assigned to multiple descriptions:\n",
    "# Returns list of 1-origin indices of best-fit title for each\n",
    "# description\n",
    "def find_matching_book_names( description_tfidfs, book_name_tfidfs ):\n",
    "    prod = description_tfidfs.dot( book_name_tfidfs.transpose() )\n",
    "    return 1 + prod.argmax( 0 )\n",
    "\n",
    "def matching_book_names_and_descriptions( file_name ):\n",
    "    book_names, descriptions = read_inputs( file_name )\n",
    "    count_vectorizer = create_count_vectorizer( book_names + descriptions )\n",
    "    book_name_tfidfs = extract_tfidf( book_names, count_vectorizer )\n",
    "    description_tfidfs = extract_tfidf( descriptions, count_vectorizer )\n",
    "    matching_book_name_indexes = find_matching_book_names( description_tfidfs, book_name_tfidfs )\n",
    "    for i in range( matching_book_name_indexes.shape[ 1 ] ):\n",
    "        print( matching_book_name_indexes[ 0, i ] )\n",
    "    \n",
    "#############################################################################\n",
    "\n",
    "file_name = \"C:/Users/IBM_ADMIN/MatchingBookNamesAndDescriptions.Sample0.input\"\n",
    "matching_book_names_and_descriptions( file_name )\n"
   ]
  },
  {
   "cell_type": "code",
   "execution_count": null,
   "metadata": {},
   "outputs": [],
   "source": []
  },
  {
   "cell_type": "code",
   "execution_count": null,
   "metadata": {},
   "outputs": [],
   "source": []
  }
 ],
 "metadata": {
  "kernelspec": {
   "display_name": "Python 3",
   "language": "python",
   "name": "python3"
  },
  "language_info": {
   "codemirror_mode": {
    "name": "ipython",
    "version": 3
   },
   "file_extension": ".py",
   "mimetype": "text/x-python",
   "name": "python",
   "nbconvert_exporter": "python",
   "pygments_lexer": "ipython3",
   "version": "3.7.3"
  }
 },
 "nbformat": 4,
 "nbformat_minor": 2
}
